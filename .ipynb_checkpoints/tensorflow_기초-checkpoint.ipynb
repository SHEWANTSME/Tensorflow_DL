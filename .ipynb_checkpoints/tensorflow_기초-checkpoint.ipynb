{
 "cells": [
  {
   "cell_type": "code",
   "execution_count": 1,
   "id": "3c52564c",
   "metadata": {},
   "outputs": [],
   "source": [
    "# using keras module \n",
    "import tensorflow as tf\n",
    "X_train , x_test = tf.keras.datasets.mnist.load_data()\n",
    "\n"
   ]
  },
  {
   "cell_type": "code",
   "execution_count": 2,
   "id": "0da4e23d",
   "metadata": {},
   "outputs": [],
   "source": [
    "(img_train , label_train) = X_train\n",
    "(img_test, label_test) = x_test"
   ]
  },
  {
   "cell_type": "code",
   "execution_count": null,
   "id": "6084200c",
   "metadata": {},
   "outputs": [],
   "source": [
    "# When do we use SEQUENTIAL?\n",
    "# Sequential for 초보\n",
    "# Functional for 전문가\n",
    "\n",
    "from tensorflow.keras import models,Dense\n",
    "model = tf.keras.sequential()\n",
    "# tensorflow안에 있는 keras 라이브러리를 가져온 후, keras library 안에 있는 models 모듈에서 sequential()을 가려오겠다는 뜻\n",
    "# x -> layer1 쌓고 -> layer2 쌓고 -> layer3 쌓고 -> y(output)\n",
    "model.add(Dense(4 , activation = 'sigmoid' , input_shape = (4,) , weights = (w,b) , name = \"dense1\"))\n",
    "\n",
    "# 간단한 모델 쌓을때는 sequential이 좋지만 단순히 여러 층을 여러개 쌓는 방식이라 복잡한 model 생성할땐 제약 존재."
   ]
  },
  {
   "cell_type": "markdown",
   "id": "08bc1c1a",
   "metadata": {},
   "source": [
    "# 간단한 모델 쌓을때는 sequential이 좋지만 단순히 여러 층을 여러개 쌓는 방식이\n",
    "\n",
    "# 라 복잡한 model 생성할땐 제약 존재."
   ]
  },
  {
   "cell_type": "markdown",
   "id": "9a1f17d2",
   "metadata": {},
   "source": [
    "#### 참고로 Functional API는 input data의 shape(크기)를 input()의 parameter로 사용해서 입력층 정의해야함\n",
    "#### 이전층을 다음층의 입력으로 사용하고 , model()에 입출력을 정의하지요"
   ]
  },
  {
   "cell_type": "code",
   "execution_count": 12,
   "id": "911051cc",
   "metadata": {},
   "outputs": [],
   "source": [
    "from tensorflow.keras.layers import Input, Dense \n",
    "from tensorflow.keras.models import Model\n",
    "inputs = Input(shape = (5,)) # 입력층(열(특성) 5개를 입력으로 받음)\n",
    "x = Dense(8 , activation = \"relu\")(inputs) # 1st 은닉층\n",
    "x = Dense(4 , activation = \"relu\")(x) # 2nd\n",
    "x = Dense(1 , activation= \"softmax\")(x) # 출력층\n",
    "model = Model(inputs , x )"
   ]
  },
  {
   "cell_type": "code",
   "execution_count": 15,
   "id": "318a8bd8",
   "metadata": {},
   "outputs": [
    {
     "name": "stdout",
     "output_type": "stream",
     "text": [
      "Model: \"model\"\n",
      "_________________________________________________________________\n",
      " Layer (type)                Output Shape              Param #   \n",
      "=================================================================\n",
      " input_2 (InputLayer)        [(None, 5)]               0         \n",
      "                                                                 \n",
      " dense (Dense)               (None, 8)                 48        \n",
      "                                                                 \n",
      " dense_1 (Dense)             (None, 4)                 36        \n",
      "                                                                 \n",
      " dense_2 (Dense)             (None, 1)                 5         \n",
      "                                                                 \n",
      "=================================================================\n",
      "Total params: 89\n",
      "Trainable params: 89\n",
      "Non-trainable params: 0\n",
      "_________________________________________________________________\n"
     ]
    }
   ],
   "source": [
    "model.summary()"
   ]
  },
  {
   "cell_type": "code",
   "execution_count": null,
   "id": "b4a7cd9f",
   "metadata": {},
   "outputs": [],
   "source": [
    "# model subclassing API는 걍 내가 만드는거\n",
    "class Resnet(tf.keras.Model):\n",
    "    def __init__(self):\n",
    "        super(Resnet, self).__init__()\n",
    "        self.block1 = layers.Dense(32,activation = \"relu\")\n",
    "        self.block2 = layers.Dense(num_classes , activation = \"sigmoid\")\n",
    "    def call(self, inputs):\n",
    "        x = self.block1(input)\n",
    "        return self.block2(x) # 이런식?\n",
    "        "
   ]
  },
  {
   "cell_type": "code",
   "execution_count": null,
   "id": "974b75c9",
   "metadata": {},
   "outputs": [],
   "source": [
    "OPTIMIZER -> data와 손실함수를 바탕으로 모델의 update 방법을 결정 -> adam , adagrad, rmsprop 같은애들\n",
    "LOSS FUNC -> 훈련하는 동안 output과 정답 사이의 오차 측정 (wx+b 와 y의 오차를 구해 model의 정확성 측정)-> y 가 연속형이면 MSE주로씀\n",
    "-> MSE 아니면 cross-entropy or SGD 이런애들 사용\n",
    "\n",
    "METRICS -> accuracy나 recall 이런애들"
   ]
  },
  {
   "cell_type": "markdown",
   "id": "0c3b6694",
   "metadata": {},
   "source": [
    "https://velog.io/@rcchun/%EB%A8%B8%EC%8B%A0%EB%9F%AC%EB%8B%9D-%ED%81%AC%EB%A1%9C%EC%8A%A4-%EC%97%94%ED%8A%B8%EB%A1%9C%ED%94%BCcross-entropy\n",
    "읽어봐방 -> ABOUT CROSS ENTROPY"
   ]
  },
  {
   "cell_type": "code",
   "execution_count": 16,
   "id": "d60a4d54",
   "metadata": {},
   "outputs": [
    {
     "ename": "SyntaxError",
     "evalue": "invalid syntax (Temp/ipykernel_29956/3765243168.py, line 1)",
     "output_type": "error",
     "traceback": [
      "\u001b[1;36m  File \u001b[1;32m\"C:\\Users\\qhdms\\AppData\\Local\\Temp/ipykernel_29956/3765243168.py\"\u001b[1;36m, line \u001b[1;32m1\u001b[0m\n\u001b[1;33m    When do we use model.fit()?\u001b[0m\n\u001b[1;37m         ^\u001b[0m\n\u001b[1;31mSyntaxError\u001b[0m\u001b[1;31m:\u001b[0m invalid syntax\n"
     ]
    }
   ],
   "source": [
    "When do we use model.fit()? -> 복잡할때는 model.fit못쓴다고 했지!!\n",
    "\n",
    "model.fit(x_train, y_train ,  epochs =10 ,    batch_size = 100 ,               validation_data = (x_test, y_test) ,                                 verbose = 2)\n",
    "        입력data   결과data  학습data반복횟수 한번학습할떄 사용하는 data개수   검증데이터(이거쓰면 각epoch마다 검증데이터의 정확도도 같이 출력됨)    학습진행상황\n",
    "                                                                                근데 실제로 모델이 검증데이터를 학습하는건아님                       보여줄지 말지(1이면볼수있음)"
   ]
  },
  {
   "cell_type": "code",
   "execution_count": null,
   "id": "3208cac3",
   "metadata": {},
   "outputs": [],
   "source": [
    "fit 하고 predict 해주면 끝 -> model.predict(y_test) 이렇게"
   ]
  }
 ],
 "metadata": {
  "kernelspec": {
   "display_name": "Python 3 (ipykernel)",
   "language": "python",
   "name": "python3"
  },
  "language_info": {
   "codemirror_mode": {
    "name": "ipython",
    "version": 3
   },
   "file_extension": ".py",
   "mimetype": "text/x-python",
   "name": "python",
   "nbconvert_exporter": "python",
   "pygments_lexer": "ipython3",
   "version": "3.9.7"
  }
 },
 "nbformat": 4,
 "nbformat_minor": 5
}
